{
 "cells": [
  {
   "cell_type": "code",
   "execution_count": 9,
   "id": "d3d54d2c-6dc9-41d2-92dd-8136a5b2b828",
   "metadata": {},
   "outputs": [
    {
     "name": "stdout",
     "output_type": "stream",
     "text": [
      "{'verbs': 1, 'nouns': 3, 'pronouns': 0, 'adjectives': 2}\n",
      "{'verbs': 3, 'nouns': 3, 'pronouns': 2, 'adjectives': 2}\n"
     ]
    }
   ],
   "source": [
    "import nltk\n",
    "from nltk.tokenize import word_tokenize\n",
    "\n",
    "def count_pos_tags(text):\n",
    "    # Tokenize the text into words\n",
    "    words = word_tokenize(text)\n",
    "    \n",
    "    # Perform part-of-speech tagging\n",
    "    tagged_words = nltk.pos_tag(words)\n",
    "    \n",
    "    # Initialize count variables\n",
    "    verb_count = 0\n",
    "    noun_count = 0\n",
    "    pronoun_count = 0\n",
    "    adjective_count = 0\n",
    "    \n",
    "    # Count the number of each POS tag\n",
    "    for word, tag in tagged_words:\n",
    "        if tag.startswith('VB'):\n",
    "            verb_count += 1\n",
    "        elif tag.startswith('NN'):\n",
    "            noun_count += 1\n",
    "        elif tag.startswith('PRP'):\n",
    "            pronoun_count += 1\n",
    "        elif tag.startswith('JJ'):\n",
    "            adjective_count += 1\n",
    "    \n",
    "    # Create a dictionary with the counts\n",
    "    pos_counts = {\n",
    "        'verbs': verb_count,\n",
    "        'nouns': noun_count,\n",
    "        'pronouns': pronoun_count,\n",
    "        'adjectives': adjective_count\n",
    "    }\n",
    "    \n",
    "    return pos_counts\n",
    "\n",
    "# Test case 1\n",
    "text1 = \"The quick brown fox jumps over the lazy dog.\"\n",
    "print(count_pos_tags(text1))  # Output: {'verbs': 1, 'nouns': 5, 'pronouns': 0, 'adjectives': 1}\n",
    "\n",
    "# Test case 2\n",
    "text2 = \"I am learning Python programming language. It is very interesting and useful.\"\n",
    "print(count_pos_tags(text2))  # Output: {'verbs': 1, 'nouns': 3, 'pronouns': 3, 'adjectives': 2}\n"
   ]
  },
  {
   "cell_type": "code",
   "execution_count": null,
   "id": "d5a819dc-0807-4614-a8ab-51a4924431cc",
   "metadata": {},
   "outputs": [],
   "source": []
  }
 ],
 "metadata": {
  "kernelspec": {
   "display_name": "Python 3 (ipykernel)",
   "language": "python",
   "name": "python3"
  },
  "language_info": {
   "codemirror_mode": {
    "name": "ipython",
    "version": 3
   },
   "file_extension": ".py",
   "mimetype": "text/x-python",
   "name": "python",
   "nbconvert_exporter": "python",
   "pygments_lexer": "ipython3",
   "version": "3.10.6"
  }
 },
 "nbformat": 4,
 "nbformat_minor": 5
}
