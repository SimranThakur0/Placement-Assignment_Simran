{
 "cells": [
  {
   "cell_type": "code",
   "execution_count": 1,
   "id": "52cdd2cc-c885-4a19-ae29-9d77f545bfc0",
   "metadata": {},
   "outputs": [],
   "source": [
    "import requests\n",
    "import pandas as pd\n",
    "\n",
    "# Step 1: Download the data from the provided link\n",
    "url = \"https://raw.githubusercontent.com/Biuni/PokemonGO-Pokedex/master/pokedex.json\"\n",
    "response = requests.get(url)\n",
    "data = response.json()\n",
    "\n",
    "# Step 2: Process the downloaded data and convert it into properly structured data\n",
    "structured_data = []\n",
    "for pokemon in data[\"pokemon\"]:\n",
    "    # Extract relevant attributes\n",
    "    id = pokemon[\"id\"]\n",
    "    num = pokemon[\"num\"]\n",
    "    name = pokemon[\"name\"]\n",
    "    img = pokemon[\"img\"]\n",
    "    type = \", \".join(pokemon[\"type\"])\n",
    "    height = pokemon[\"height\"]\n",
    "    weight = pokemon[\"weight\"]\n",
    "    candy = pokemon.get(\"candy\", \"\")\n",
    "    candy_count = pokemon.get(\"candy_count\", 0)\n",
    "    egg = pokemon.get(\"egg\", \"\")\n",
    "    spawn_chance = pokemon.get(\"spawn_chance\", 0.0)\n",
    "    avg_spawns = pokemon.get(\"avg_spawns\", 0)\n",
    "    spawn_time = pokemon.get(\"spawn_time\", \"\")\n",
    "    weaknesses = \", \".join(pokemon.get(\"weaknesses\", []))\n",
    "    \n",
    "    # Handle next_evolution and prev_evolution\n",
    "    next_evolution = \", \".join([evolution[\"name\"] for evolution in pokemon.get(\"next_evolution\", [])])\n",
    "    prev_evolution = \", \".join([evolution[\"name\"] for evolution in pokemon.get(\"prev_evolution\", [])])\n",
    "\n",
    "    # Append the processed data to structured_data list\n",
    "    structured_data.append({\n",
    "        \"id\": id,\n",
    "        \"num\": num,\n",
    "        \"name\": name,\n",
    "        \"img\": img,\n",
    "        \"type\": type,\n",
    "        \"height\": height,\n",
    "        \"weight\": weight,\n",
    "        \"candy\": candy,\n",
    "        \"candy_count\": candy_count,\n",
    "        \"egg\": egg,\n",
    "        \"spawn_chance\": spawn_chance,\n",
    "        \"avg_spawns\": avg_spawns,\n",
    "        \"spawn_time\": spawn_time,\n",
    "        \"weaknesses\": weaknesses,\n",
    "        \"next_evolution\": next_evolution,\n",
    "        \"prev_evolution\": prev_evolution\n",
    "    })\n",
    "\n",
    "# Step 3: Convert the structured data to Excel format\n",
    "df = pd.DataFrame(structured_data)\n",
    "df.to_excel(\"pokemon_data.xlsx\", index=False)\n"
   ]
  },
  {
   "cell_type": "code",
   "execution_count": null,
   "id": "552a6c1b-c731-4165-9ac2-ef3f53f6b7e7",
   "metadata": {},
   "outputs": [],
   "source": []
  }
 ],
 "metadata": {
  "kernelspec": {
   "display_name": "Python 3 (ipykernel)",
   "language": "python",
   "name": "python3"
  },
  "language_info": {
   "codemirror_mode": {
    "name": "ipython",
    "version": 3
   },
   "file_extension": ".py",
   "mimetype": "text/x-python",
   "name": "python",
   "nbconvert_exporter": "python",
   "pygments_lexer": "ipython3",
   "version": "3.10.6"
  }
 },
 "nbformat": 4,
 "nbformat_minor": 5
}
