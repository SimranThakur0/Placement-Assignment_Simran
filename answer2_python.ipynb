{
 "cells": [
  {
   "cell_type": "code",
   "execution_count": 4,
   "id": "fa226258-74a9-42ac-bab7-26f219aa299b",
   "metadata": {},
   "outputs": [
    {
     "name": "stdout",
     "output_type": "stream",
     "text": [
      "YES\n",
      "NO\n"
     ]
    }
   ],
   "source": [
    "def is_valid_string(s):\n",
    "    char_count = {}\n",
    "    for char in s:\n",
    "        if char in char_count:\n",
    "            char_count[char] += 1\n",
    "        else:\n",
    "            char_count[char] = 1\n",
    "\n",
    "    # Get the frequencies of characters\n",
    "    char_freq = list(char_count.values())\n",
    "\n",
    "    # Check if all frequencies are the same\n",
    "    if len(set(char_freq)) == 1:\n",
    "        return \"YES\"  # All characters have the same frequency\n",
    "\n",
    "    # Check if removing one character makes the frequencies the same\n",
    "    for i in range(len(char_freq)):\n",
    "        if char_freq[i] == 1:\n",
    "            temp_freq = char_freq[:i] + char_freq[i+1:]\n",
    "            if len(set(temp_freq)) == 1:\n",
    "                return \"YES\"  # Removing one character makes the frequencies the same\n",
    "\n",
    "    return \"NO\"  # No valid conditions met\n",
    "\n",
    "# Testing the provided examples\n",
    "print(is_valid_string(\"abc\"))  # Output: YES\n",
    "#The test case \"abc\" returns \"YES\" because all characters in the string have the same frequency (1 occurrence each).\n",
    "\n",
    "print(is_valid_string(\"abcc\"))  # Output: NO\n",
    "#\n"
   ]
  },
  {
   "cell_type": "code",
   "execution_count": null,
   "id": "7d8e30b1-046d-4408-a368-9a77d5da5c5a",
   "metadata": {},
   "outputs": [],
   "source": []
  }
 ],
 "metadata": {
  "kernelspec": {
   "display_name": "Python 3 (ipykernel)",
   "language": "python",
   "name": "python3"
  },
  "language_info": {
   "codemirror_mode": {
    "name": "ipython",
    "version": 3
   },
   "file_extension": ".py",
   "mimetype": "text/x-python",
   "name": "python",
   "nbconvert_exporter": "python",
   "pygments_lexer": "ipython3",
   "version": "3.10.6"
  }
 },
 "nbformat": 4,
 "nbformat_minor": 5
}
