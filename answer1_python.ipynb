{
 "cells": [
  {
   "cell_type": "code",
   "execution_count": 5,
   "id": "a4ef635e-04ec-4426-8bd2-53bba1b42394",
   "metadata": {},
   "outputs": [
    {
     "name": "stdout",
     "output_type": "stream",
     "text": [
      "Output 1: 5\n",
      "Output 2: 7\n",
      "Output 3: 5\n"
     ]
    },
    {
     "data": {
      "text/plain": [
       "'Explanation - From the given string we can note that the most frequent words is “hello” and the maximum value of \\n“hello” and its corresponding length is 5 '"
      ]
     },
     "execution_count": 5,
     "metadata": {},
     "output_type": "execute_result"
    }
   ],
   "source": [
    "def find_highest_frequency_word_length(string):\n",
    "    \n",
    "    # Split the string into words\n",
    "    words = string.split()\n",
    "\n",
    "    # Create a dictionary to store word frequencies\n",
    "    frequency = {}\n",
    "\n",
    "    # Count the frequency of each word\n",
    "    for word in words:\n",
    "        if word in frequency:\n",
    "            frequency[word] += 1\n",
    "        else:\n",
    "            frequency[word] = 1\n",
    "\n",
    "    # Find the highest frequency\n",
    "    max_freq = max(frequency.values())\n",
    "\n",
    "    # Find the length of the word with the highest frequency\n",
    "    max_length = max(len(word) for word, freq in frequency.items() if freq == max_freq)\n",
    "\n",
    "    return max_length\n",
    "\n",
    "\n",
    "# Test case 1\n",
    "string1 = \"write write write all the number from from from 1 to 100\"\n",
    "output1 = find_highest_frequency_word_length(string1)\n",
    "print(\"Output 1:\", output1) \n",
    "\n",
    "'''Explanation - From the given string we can note that the most frequent words are “write” and\n",
    "“from” and the maximum value of both the values is “write” and its corresponding length is 5'''\n",
    "\n",
    "\n",
    "# Test case 2\n",
    "string2 = \"the quicker you do your job the quicker you'll get payment \"\n",
    "output2 = find_highest_frequency_word_length(string2)\n",
    "print(\"Output 2:\", output2) \n",
    "\n",
    "'''Explanation - From the given string we can note that the most frequent words are “quicker” and \n",
    "“the” and the maximum value of both the values is “quicker” and its corresponding length is 7.'''\n",
    "\n",
    "\n",
    "# Test case 3\n",
    "string3 = \"hello india hello india hello\"\n",
    "output3 = find_highest_frequency_word_length(string3)\n",
    "print(\"Output 3:\", output3)\n",
    "\n",
    "'''Explanation - From the given string we can note that the most frequent words is “hello” and the maximum value of \n",
    "“hello” and its corresponding length is 5 '''\n",
    "\n"
   ]
  },
  {
   "cell_type": "code",
   "execution_count": null,
   "id": "a5faeb0a-d727-40e9-9495-d80931e753dd",
   "metadata": {},
   "outputs": [],
   "source": []
  },
  {
   "cell_type": "code",
   "execution_count": null,
   "id": "741b3dd9-0291-4cc6-be4e-3a6a5ea6b785",
   "metadata": {},
   "outputs": [],
   "source": []
  }
 ],
 "metadata": {
  "kernelspec": {
   "display_name": "Python 3 (ipykernel)",
   "language": "python",
   "name": "python3"
  },
  "language_info": {
   "codemirror_mode": {
    "name": "ipython",
    "version": 3
   },
   "file_extension": ".py",
   "mimetype": "text/x-python",
   "name": "python",
   "nbconvert_exporter": "python",
   "pygments_lexer": "ipython3",
   "version": "3.10.6"
  }
 },
 "nbformat": 4,
 "nbformat_minor": 5
}
